{
 "cells": [
  {
   "cell_type": "code",
   "execution_count": 2,
   "id": "2c981e1d-29ce-40c6-9992-78fe5f2cf5f3",
   "metadata": {},
   "outputs": [
    {
     "name": "stdout",
     "output_type": "stream",
     "text": [
      "The autoreload extension is already loaded. To reload it, use:\n",
      "  %reload_ext autoreload\n",
      "device: cpu\n"
     ]
    }
   ],
   "source": [
    "%load_ext autoreload\n",
    "%autoreload 2\n",
    "import torch\n",
    "from matplotlib import pyplot as plt\n",
    "import matplotlib as mpl\n",
    "import seaborn as sns\n",
    "import numpy as np\n",
    "from time import time\n",
    "from tqdm import tqdm\n",
    "from collections import defaultdict\n",
    "from math import ceil\n",
    "import statistics\n",
    "import seaborn as sns\n",
    "\n",
    "from approxmh.utilities import *\n",
    "from approxmh.y_utils import *\n",
    "from approxmh.samplers import *\n",
    "from approxmh.distributions import Banana, Funnel, Serpentine, create_gaussian_mixture, create_gaussian_lattice, create_random_gaussian_mixture, get_mode_coverage, create_serpentine\n",
    "from approxmh.distribution_metrics import *\n",
    "from approxmh.sequential_mcmc import LangevinKernel, run_annealed_importance_sampling, DensityMixture\n",
    "from approxmh.vae import VAE, VAETrainer, get_filename\n",
    "from approxmh.gan_latent_space_distributions import SNGANLatentSpace\n",
    "\n",
    "device = torch.device('cuda' if torch.cuda.is_available() else 'cpu')\n",
    "print('device:', device)"
   ]
  },
  {
   "cell_type": "code",
   "execution_count": null,
   "id": "b9fa1aab-a520-443b-b17d-a4a064343abd",
   "metadata": {},
   "outputs": [],
   "source": []
  }
 ],
 "metadata": {
  "kernelspec": {
   "display_name": "data_kernel",
   "language": "python",
   "name": "data_kernel"
  },
  "language_info": {
   "codemirror_mode": {
    "name": "ipython",
    "version": 3
   },
   "file_extension": ".py",
   "mimetype": "text/x-python",
   "name": "python",
   "nbconvert_exporter": "python",
   "pygments_lexer": "ipython3",
   "version": "3.10.12"
  }
 },
 "nbformat": 4,
 "nbformat_minor": 5
}
